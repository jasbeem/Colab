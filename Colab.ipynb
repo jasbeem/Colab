{
  "nbformat": 4,
  "nbformat_minor": 0,
  "metadata": {
    "colab": {
      "provenance": [],
      "collapsed_sections": [],
      "authorship_tag": "ABX9TyM9Lw1bhORDm3mUkXDqCLy5",
      "include_colab_link": true
    },
    "kernelspec": {
      "name": "python3",
      "display_name": "Python 3"
    },
    "language_info": {
      "name": "python"
    }
  },
  "cells": [
    {
      "cell_type": "markdown",
      "metadata": {
        "id": "view-in-github",
        "colab_type": "text"
      },
      "source": [
        "<a href=\"https://colab.research.google.com/github/jasbeem/Colab/blob/main/Colab.ipynb\" target=\"_parent\"><img src=\"https://colab.research.google.com/assets/colab-badge.svg\" alt=\"Open In Colab\"/></a>"
      ]
    },
    {
      "cell_type": "code",
      "execution_count": 1,
      "metadata": {
        "colab": {
          "base_uri": "https://localhost:8080/"
        },
        "id": "pOmwkah7na2n",
        "outputId": "7bdca38d-5a6f-4645-cce9-0cc764f8234a"
      },
      "outputs": [
        {
          "output_type": "stream",
          "name": "stdout",
          "text": [
            "86400\n"
          ]
        }
      ],
      "source": [
        "segundos = 24 * 60 * 60\n",
        "print(segundos)"
      ]
    },
    {
      "cell_type": "code",
      "source": [
        "segundos_año = segundos * 365\n",
        "print(f'Estos son los segundos que tiene un año: {segundos_año} segundos')"
      ],
      "metadata": {
        "colab": {
          "base_uri": "https://localhost:8080/"
        },
        "id": "gH69mAVnovzK",
        "outputId": "e44f643f-a625-42b6-b408-dad2f22f1601"
      },
      "execution_count": 6,
      "outputs": [
        {
          "output_type": "stream",
          "name": "stdout",
          "text": [
            "Estos son los segundos que tiene un año: 31536000 segundos\n"
          ]
        }
      ]
    }
  ]
}